{
 "cells": [
  {
   "cell_type": "code",
   "execution_count": null,
   "source": [
    "lista = [10, 5, 2, 7, 8, 7]"
   ],
   "outputs": [],
   "metadata": {}
  }
 ],
 "metadata": {
  "orig_nbformat": 4,
  "language_info": {
   "name": "python"
  }
 },
 "nbformat": 4,
 "nbformat_minor": 2
}